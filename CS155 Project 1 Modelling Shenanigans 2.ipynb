{
 "cells": [
  {
   "cell_type": "markdown",
   "id": "40e26b51",
   "metadata": {},
   "source": [
    "## CS 155 Project 1 Modelling Shenanigans!\n",
    "Let's start modelling for fun! :)"
   ]
  },
  {
   "cell_type": "code",
   "execution_count": 261,
   "id": "3a5470b1",
   "metadata": {},
   "outputs": [],
   "source": [
    "import torch\n",
    "import torch.nn as nn\n",
    "import torch.nn.functional as F\n",
    "from torch.utils.data import TensorDataset, DataLoader\n",
    "import numpy as np\n",
    "import pandas as pd\n",
    "import seaborn as sns\n",
    "from sklearn.preprocessing import StandardScaler\n",
    "from sklearn.datasets import make_classification\n",
    "from sklearn.model_selection import cross_val_score\n",
    "from sklearn.model_selection import RepeatedStratifiedKFold\n",
    "from sklearn.linear_model import LogisticRegression\n",
    "from sklearn.metrics import fbeta_score, make_scorer\n",
    "from mlxtend.feature_selection import SequentialFeatureSelector\n",
    "from sklearn import linear_model\n",
    "from sklearn.model_selection import KFold"
   ]
  },
  {
   "cell_type": "code",
   "execution_count": 281,
   "id": "5261bc07",
   "metadata": {},
   "outputs": [],
   "source": [
    "df = pd.read_csv(\"trainingData2.csv\")\n",
    "df = df.sample(frac=1)\n",
    "\n",
    "trainsize = int(len(df.index)*0.75)\n",
    "df_train = df.iloc[:trainsize,:]\n",
    "df_test = df.iloc[trainsize:,:]\n",
    "weights = (((df_train['lab']==1)+0.1).values)*6.9\n",
    "labtest = df_test[df_test['lab']==1.0]\n",
    "\n",
    "df_train=df_train.drop('lab', axis=1)\n",
    "df_test=df_test.drop('lab', axis=1)\n",
    "labtest=labtest.drop('lab', axis=1)\n",
    "df = df.drop('lab',axis=1)"
   ]
  },
  {
   "cell_type": "code",
   "execution_count": 282,
   "id": "a7e7bc09",
   "metadata": {},
   "outputs": [],
   "source": [
    "# Normalizing data\n",
    "NPTX = df_train.drop('label', axis=1).values\n",
    "scaler = StandardScaler()\n",
    "scaler.fit(NPTX)\n",
    "NPTX=scaler.transform(NPTX)\n",
    "NPTY = df_test.drop('label', axis=1).values\n",
    "NPTY=scaler.transform(NPTY)\n",
    "NPTL = labtest.drop('label', axis=1).values\n",
    "NPTL=scaler.transform(NPTL)\n",
    "\n",
    "normalizedTrainDF= pd.DataFrame(NPTX, columns = df_train.loc[:, df.columns != 'label'].columns.values)\n",
    "normalizedTestDF= pd.DataFrame(NPTY, columns = df_test.loc[:, df.columns != 'label'].columns.values)\n",
    "normalizedTestLabDF= pd.DataFrame(NPTL, columns = df_test.loc[:, df.columns != 'label'].columns.values)"
   ]
  },
  {
   "cell_type": "markdown",
   "id": "f9f618d7",
   "metadata": {},
   "source": [
    " "
   ]
  },
  {
   "cell_type": "markdown",
   "id": "1d45a44f",
   "metadata": {},
   "source": [
    "### Stepwise Logistic Regression"
   ]
  },
  {
   "cell_type": "code",
   "execution_count": 289,
   "id": "8d9fb6ab",
   "metadata": {},
   "outputs": [
    {
     "ename": "InvalidParameterError",
     "evalue": "The 'class_weight' parameter of LogisticRegression must be an instance of 'dict', a str among {'balanced'} or None. Got {1, 10} instead.",
     "output_type": "error",
     "traceback": [
      "\u001b[0;31m---------------------------------------------------------------------------\u001b[0m",
      "\u001b[0;31mInvalidParameterError\u001b[0m                     Traceback (most recent call last)",
      "Cell \u001b[0;32mIn[289], line 12\u001b[0m\n\u001b[1;32m      9\u001b[0m selected_features \u001b[38;5;241m=\u001b[39m sfs\u001b[38;5;241m.\u001b[39mfit(normalizedTrainDF, df_train[\u001b[38;5;124m'\u001b[39m\u001b[38;5;124mlabel\u001b[39m\u001b[38;5;124m'\u001b[39m]\u001b[38;5;241m.\u001b[39mvalues)\u001b[38;5;241m.\u001b[39mk_feature_names_\n\u001b[1;32m     11\u001b[0m model \u001b[38;5;241m=\u001b[39m LogisticRegression(multi_class\u001b[38;5;241m=\u001b[39m\u001b[38;5;124m'\u001b[39m\u001b[38;5;124mmultinomial\u001b[39m\u001b[38;5;124m'\u001b[39m, solver\u001b[38;5;241m=\u001b[39m\u001b[38;5;124m'\u001b[39m\u001b[38;5;124mlbfgs\u001b[39m\u001b[38;5;124m'\u001b[39m,max_iter\u001b[38;5;241m=\u001b[39m\u001b[38;5;241m12000\u001b[39m, class_weight\u001b[38;5;241m=\u001b[39m{\u001b[38;5;241m1\u001b[39m,\u001b[38;5;241m10\u001b[39m})\n\u001b[0;32m---> 12\u001b[0m \u001b[43mmodel\u001b[49m\u001b[38;5;241;43m.\u001b[39;49m\u001b[43mfit\u001b[49m\u001b[43m(\u001b[49m\u001b[43mnormalizedTrainDF\u001b[49m\u001b[43m[\u001b[49m\u001b[43mnp\u001b[49m\u001b[38;5;241;43m.\u001b[39;49m\u001b[43masarray\u001b[49m\u001b[43m(\u001b[49m\u001b[43mselected_features\u001b[49m\u001b[43m)\u001b[49m\u001b[43m]\u001b[49m\u001b[43m,\u001b[49m\u001b[43m \u001b[49m\u001b[43mdf_train\u001b[49m\u001b[43m[\u001b[49m\u001b[38;5;124;43m'\u001b[39;49m\u001b[38;5;124;43mlabel\u001b[39;49m\u001b[38;5;124;43m'\u001b[39;49m\u001b[43m]\u001b[49m\u001b[38;5;241;43m.\u001b[39;49m\u001b[43mvalues\u001b[49m\u001b[43m,\u001b[49m\u001b[43m \u001b[49m\u001b[43msample_weight\u001b[49m\u001b[43m \u001b[49m\u001b[38;5;241;43m=\u001b[39;49m\u001b[43m \u001b[49m\u001b[43mweights\u001b[49m\u001b[43m)\u001b[49m\n\u001b[1;32m     14\u001b[0m \u001b[38;5;66;03m# Check accuracy on testing data\u001b[39;00m\n\u001b[1;32m     15\u001b[0m yhat \u001b[38;5;241m=\u001b[39m model\u001b[38;5;241m.\u001b[39mpredict(normalizedTestDF[np\u001b[38;5;241m.\u001b[39masarray(selected_features)])\n",
      "File \u001b[0;32m/Library/Frameworks/Python.framework/Versions/3.9/lib/python3.9/site-packages/sklearn/linear_model/_logistic.py:1160\u001b[0m, in \u001b[0;36mLogisticRegression.fit\u001b[0;34m(self, X, y, sample_weight)\u001b[0m\n\u001b[1;32m   1130\u001b[0m \u001b[38;5;28;01mdef\u001b[39;00m \u001b[38;5;21mfit\u001b[39m(\u001b[38;5;28mself\u001b[39m, X, y, sample_weight\u001b[38;5;241m=\u001b[39m\u001b[38;5;28;01mNone\u001b[39;00m):\n\u001b[1;32m   1131\u001b[0m \u001b[38;5;250m    \u001b[39m\u001b[38;5;124;03m\"\"\"\u001b[39;00m\n\u001b[1;32m   1132\u001b[0m \u001b[38;5;124;03m    Fit the model according to the given training data.\u001b[39;00m\n\u001b[1;32m   1133\u001b[0m \n\u001b[0;32m   (...)\u001b[0m\n\u001b[1;32m   1157\u001b[0m \u001b[38;5;124;03m    The SAGA solver supports both float64 and float32 bit arrays.\u001b[39;00m\n\u001b[1;32m   1158\u001b[0m \u001b[38;5;124;03m    \"\"\"\u001b[39;00m\n\u001b[0;32m-> 1160\u001b[0m     \u001b[38;5;28;43mself\u001b[39;49m\u001b[38;5;241;43m.\u001b[39;49m\u001b[43m_validate_params\u001b[49m\u001b[43m(\u001b[49m\u001b[43m)\u001b[49m\n\u001b[1;32m   1162\u001b[0m     solver \u001b[38;5;241m=\u001b[39m _check_solver(\u001b[38;5;28mself\u001b[39m\u001b[38;5;241m.\u001b[39msolver, \u001b[38;5;28mself\u001b[39m\u001b[38;5;241m.\u001b[39mpenalty, \u001b[38;5;28mself\u001b[39m\u001b[38;5;241m.\u001b[39mdual)\n\u001b[1;32m   1164\u001b[0m     \u001b[38;5;28;01mif\u001b[39;00m \u001b[38;5;28mself\u001b[39m\u001b[38;5;241m.\u001b[39mpenalty \u001b[38;5;241m!=\u001b[39m \u001b[38;5;124m\"\u001b[39m\u001b[38;5;124melasticnet\u001b[39m\u001b[38;5;124m\"\u001b[39m \u001b[38;5;129;01mand\u001b[39;00m \u001b[38;5;28mself\u001b[39m\u001b[38;5;241m.\u001b[39ml1_ratio \u001b[38;5;129;01mis\u001b[39;00m \u001b[38;5;129;01mnot\u001b[39;00m \u001b[38;5;28;01mNone\u001b[39;00m:\n",
      "File \u001b[0;32m/Library/Frameworks/Python.framework/Versions/3.9/lib/python3.9/site-packages/sklearn/base.py:570\u001b[0m, in \u001b[0;36mBaseEstimator._validate_params\u001b[0;34m(self)\u001b[0m\n\u001b[1;32m    562\u001b[0m \u001b[38;5;28;01mdef\u001b[39;00m \u001b[38;5;21m_validate_params\u001b[39m(\u001b[38;5;28mself\u001b[39m):\n\u001b[1;32m    563\u001b[0m \u001b[38;5;250m    \u001b[39m\u001b[38;5;124;03m\"\"\"Validate types and values of constructor parameters\u001b[39;00m\n\u001b[1;32m    564\u001b[0m \n\u001b[1;32m    565\u001b[0m \u001b[38;5;124;03m    The expected type and values must be defined in the `_parameter_constraints`\u001b[39;00m\n\u001b[0;32m   (...)\u001b[0m\n\u001b[1;32m    568\u001b[0m \u001b[38;5;124;03m    accepted constraints.\u001b[39;00m\n\u001b[1;32m    569\u001b[0m \u001b[38;5;124;03m    \"\"\"\u001b[39;00m\n\u001b[0;32m--> 570\u001b[0m     \u001b[43mvalidate_parameter_constraints\u001b[49m\u001b[43m(\u001b[49m\n\u001b[1;32m    571\u001b[0m \u001b[43m        \u001b[49m\u001b[38;5;28;43mself\u001b[39;49m\u001b[38;5;241;43m.\u001b[39;49m\u001b[43m_parameter_constraints\u001b[49m\u001b[43m,\u001b[49m\n\u001b[1;32m    572\u001b[0m \u001b[43m        \u001b[49m\u001b[38;5;28;43mself\u001b[39;49m\u001b[38;5;241;43m.\u001b[39;49m\u001b[43mget_params\u001b[49m\u001b[43m(\u001b[49m\u001b[43mdeep\u001b[49m\u001b[38;5;241;43m=\u001b[39;49m\u001b[38;5;28;43;01mFalse\u001b[39;49;00m\u001b[43m)\u001b[49m\u001b[43m,\u001b[49m\n\u001b[1;32m    573\u001b[0m \u001b[43m        \u001b[49m\u001b[43mcaller_name\u001b[49m\u001b[38;5;241;43m=\u001b[39;49m\u001b[38;5;28;43mself\u001b[39;49m\u001b[38;5;241;43m.\u001b[39;49m\u001b[38;5;18;43m__class__\u001b[39;49m\u001b[38;5;241;43m.\u001b[39;49m\u001b[38;5;18;43m__name__\u001b[39;49m\u001b[43m,\u001b[49m\n\u001b[1;32m    574\u001b[0m \u001b[43m    \u001b[49m\u001b[43m)\u001b[49m\n",
      "File \u001b[0;32m/Library/Frameworks/Python.framework/Versions/3.9/lib/python3.9/site-packages/sklearn/utils/_param_validation.py:97\u001b[0m, in \u001b[0;36mvalidate_parameter_constraints\u001b[0;34m(parameter_constraints, params, caller_name)\u001b[0m\n\u001b[1;32m     91\u001b[0m \u001b[38;5;28;01melse\u001b[39;00m:\n\u001b[1;32m     92\u001b[0m     constraints_str \u001b[38;5;241m=\u001b[39m (\n\u001b[1;32m     93\u001b[0m         \u001b[38;5;124mf\u001b[39m\u001b[38;5;124m\"\u001b[39m\u001b[38;5;132;01m{\u001b[39;00m\u001b[38;5;124m'\u001b[39m\u001b[38;5;124m, \u001b[39m\u001b[38;5;124m'\u001b[39m\u001b[38;5;241m.\u001b[39mjoin([\u001b[38;5;28mstr\u001b[39m(c)\u001b[38;5;250m \u001b[39m\u001b[38;5;28;01mfor\u001b[39;00m\u001b[38;5;250m \u001b[39mc\u001b[38;5;250m \u001b[39m\u001b[38;5;129;01min\u001b[39;00m\u001b[38;5;250m \u001b[39mconstraints[:\u001b[38;5;241m-\u001b[39m\u001b[38;5;241m1\u001b[39m]])\u001b[38;5;132;01m}\u001b[39;00m\u001b[38;5;124m or\u001b[39m\u001b[38;5;124m\"\u001b[39m\n\u001b[1;32m     94\u001b[0m         \u001b[38;5;124mf\u001b[39m\u001b[38;5;124m\"\u001b[39m\u001b[38;5;124m \u001b[39m\u001b[38;5;132;01m{\u001b[39;00mconstraints[\u001b[38;5;241m-\u001b[39m\u001b[38;5;241m1\u001b[39m]\u001b[38;5;132;01m}\u001b[39;00m\u001b[38;5;124m\"\u001b[39m\n\u001b[1;32m     95\u001b[0m     )\n\u001b[0;32m---> 97\u001b[0m \u001b[38;5;28;01mraise\u001b[39;00m InvalidParameterError(\n\u001b[1;32m     98\u001b[0m     \u001b[38;5;124mf\u001b[39m\u001b[38;5;124m\"\u001b[39m\u001b[38;5;124mThe \u001b[39m\u001b[38;5;132;01m{\u001b[39;00mparam_name\u001b[38;5;132;01m!r}\u001b[39;00m\u001b[38;5;124m parameter of \u001b[39m\u001b[38;5;132;01m{\u001b[39;00mcaller_name\u001b[38;5;132;01m}\u001b[39;00m\u001b[38;5;124m must be\u001b[39m\u001b[38;5;124m\"\u001b[39m\n\u001b[1;32m     99\u001b[0m     \u001b[38;5;124mf\u001b[39m\u001b[38;5;124m\"\u001b[39m\u001b[38;5;124m \u001b[39m\u001b[38;5;132;01m{\u001b[39;00mconstraints_str\u001b[38;5;132;01m}\u001b[39;00m\u001b[38;5;124m. Got \u001b[39m\u001b[38;5;132;01m{\u001b[39;00mparam_val\u001b[38;5;132;01m!r}\u001b[39;00m\u001b[38;5;124m instead.\u001b[39m\u001b[38;5;124m\"\u001b[39m\n\u001b[1;32m    100\u001b[0m )\n",
      "\u001b[0;31mInvalidParameterError\u001b[0m: The 'class_weight' parameter of LogisticRegression must be an instance of 'dict', a str among {'balanced'} or None. Got {1, 10} instead."
     ]
    }
   ],
   "source": [
    "ftwo_scorer = make_scorer(fbeta_score, beta=2)\n",
    "\n",
    "#Stepwise log reg?\n",
    "sfs = SequentialFeatureSelector(linear_model.LogisticRegression(max_iter=12000),\n",
    "                                k_features='best',\n",
    "                                forward=True,\n",
    "                                scoring=ftwo_scorer,\n",
    "                                cv=KFold(n_splits=5, shuffle=True,random_state=False))\n",
    "selected_features = sfs.fit(normalizedTrainDF, df_train['label'].values).k_feature_names_\n",
    "\n",
    "model = LogisticRegression(multi_class='multinomial', solver='lbfgs',max_iter=12000, class_weight=[1,10])\n",
    "model.fit(normalizedTrainDF[np.asarray(selected_features)], df_train['label'].values, sample_weight = weights)\n",
    "\n",
    "# Check accuracy on testing data\n",
    "yhat = model.predict(normalizedTestDF[np.asarray(selected_features)])\n",
    "testy= df_test['label'].values\n",
    "yhat0 = model.predict(normalizedTrainDF[np.asarray(selected_features)])\n",
    "trainy = df_train['label'].values\n",
    "\n",
    "yhat2 = model.predict(normalizedTestLabDF[np.asarray(selected_features)])\n",
    "testy2= labtest['label'].values\n",
    "\n",
    "print('Train Accuracy: '+ str(np.sum(yhat0==trainy)/len(trainy)))\n",
    "print( fbeta_score(trainy, yhat0, average='weighted', beta=2))\n",
    "\n",
    "print('Test Accuracy: '+ str(np.sum(yhat==testy)/len(testy)))\n",
    "print(fbeta_score(testy, yhat, average='weighted', beta=2))\n",
    "\n",
    "print('Lab Test Accuracy: '+ str(np.sum(yhat==testy)/len(testy)))\n",
    "print(fbeta_score(testy2, yhat2, average='weighted', beta=2))\n",
    "\n",
    "print(selected_features)"
   ]
  },
  {
   "cell_type": "code",
   "execution_count": 284,
   "id": "00aa21c8",
   "metadata": {},
   "outputs": [
    {
     "name": "stdout",
     "output_type": "stream",
     "text": [
      "Train Accuracy: 0.9842454394693201\n",
      "0.984221614045162\n",
      "Test Accuracy: 0.9833333333333333\n",
      "0.9832947656429426\n",
      "Lab Test Accuracy: 0.9833333333333333\n",
      "0.8978721642656069\n",
      "('meanStepDisplacement', 'sdStepDisplacement', 'shapiroDisplacement', 'meanAngle', 'meanVideoStepTravel')\n"
     ]
    }
   ],
   "source": [
    "sfs = SequentialFeatureSelector(linear_model.LogisticRegression(max_iter=12000),\n",
    "                                k_features='parsimonious',\n",
    "                                forward=True,\n",
    "                                scoring=ftwo_scorer,\n",
    "                                cv=KFold(n_splits=5, shuffle=True,random_state=False))\n",
    "selected_features = sfs.fit(normalizedTrainDF, df_train['label'].values).k_feature_names_\n",
    "model = LogisticRegression(multi_class='multinomial', solver='lbfgs',max_iter=12000)\n",
    "model.fit(normalizedTrainDF[np.asarray(selected_features)], df_train['label'].values, sample_weight = weights)\n",
    "\n",
    "# Check accuracy on testing data\n",
    "yhat = model.predict(normalizedTestDF[np.asarray(selected_features)])\n",
    "testy= df_test['label'].values\n",
    "yhat0 = model.predict(normalizedTrainDF[np.asarray(selected_features)])\n",
    "trainy = df_train['label'].values\n",
    "\n",
    "yhat2 = model.predict(normalizedTestLabDF[np.asarray(selected_features)])\n",
    "testy2= labtest['label'].values\n",
    "\n",
    "print('Train Accuracy: '+ str(np.sum(yhat0==trainy)/len(trainy)))\n",
    "print( fbeta_score(trainy, yhat0, average='weighted', beta=2))\n",
    "\n",
    "print('Test Accuracy: '+ str(np.sum(yhat==testy)/len(testy)))\n",
    "print(fbeta_score(testy, yhat, average='weighted', beta=2))\n",
    "\n",
    "print('Lab Test Accuracy: '+ str(np.sum(yhat==testy)/len(testy)))\n",
    "print(fbeta_score(testy2, yhat2, average='weighted', beta=2))\n",
    "\n",
    "print(selected_features)"
   ]
  },
  {
   "cell_type": "code",
   "execution_count": 285,
   "id": "74e3310e",
   "metadata": {},
   "outputs": [
    {
     "name": "stdout",
     "output_type": "stream",
     "text": [
      "Train Accuracy: 0.9875621890547264\n",
      "0.9875423429381873\n",
      "Test Accuracy: 0.9875621890547264\n",
      "0.9875366978452786\n",
      "Lab Test Accuracy: 0.9875621890547264\n",
      "0.9318181818181818\n",
      "('meanStepDisplacement', 'meanStepTravel', 'sdStepDisplacement', 'sdStepTravel', 'shapiroDisplacement', 'meanAngle', 'sdAngle', 'sdVideoMeanStepDisplacement', 'meanVideoStepTravel', 'sdVideoMeanStepTravel', 'meanVideoAngle', 'sdVideoAngle')\n"
     ]
    }
   ],
   "source": [
    "sfs = SequentialFeatureSelector(linear_model.LogisticRegression(max_iter=12000),\n",
    "                                k_features='best',\n",
    "                                forward=False,\n",
    "                                scoring=ftwo_scorer,\n",
    "                                cv=KFold(n_splits=5, shuffle=True,random_state=False))\n",
    "selected_features = sfs.fit(normalizedTrainDF, df_train['label'].values).k_feature_names_\n",
    "model = LogisticRegression(multi_class='multinomial', solver='lbfgs',max_iter=12000, class_weight='balanced')\n",
    "model.fit(normalizedTrainDF[np.asarray(selected_features)], df_train['label'].values, sample_weight = weights)\n",
    "\n",
    "yhat = model.predict(normalizedTestDF[np.asarray(selected_features)])\n",
    "testy= df_test['label'].values\n",
    "yhat0 = model.predict(normalizedTrainDF[np.asarray(selected_features)])\n",
    "trainy = df_train['label'].values\n",
    "\n",
    "\n",
    "# Check accuracy on testing data\n",
    "yhat = model.predict(normalizedTestDF[np.asarray(selected_features)])\n",
    "testy= df_test['label'].values\n",
    "yhat0 = model.predict(normalizedTrainDF[np.asarray(selected_features)])\n",
    "trainy = df_train['label'].values\n",
    "\n",
    "yhat2 = model.predict(normalizedTestLabDF[np.asarray(selected_features)])\n",
    "testy2= labtest['label'].values\n",
    "\n",
    "print('Train Accuracy: '+ str(np.sum(yhat0==trainy)/len(trainy)))\n",
    "print( fbeta_score(trainy, yhat0, average='weighted', beta=2))\n",
    "\n",
    "print('Test Accuracy: '+ str(np.sum(yhat==testy)/len(testy)))\n",
    "print(fbeta_score(testy, yhat, average='weighted', beta=2))\n",
    "\n",
    "print('Lab Test Accuracy: '+ str(np.sum(yhat==testy)/len(testy)))\n",
    "print(fbeta_score(testy2, yhat2, average='weighted', beta=2))\n",
    "\n",
    "print(selected_features)"
   ]
  },
  {
   "cell_type": "code",
   "execution_count": 286,
   "id": "a3e78ccf",
   "metadata": {},
   "outputs": [
    {
     "name": "stdout",
     "output_type": "stream",
     "text": [
      "Train Accuracy: 0.9835820895522388\n",
      "0.9835427292910329\n",
      "Test Accuracy: 0.9823383084577114\n",
      "0.9822712661392045\n",
      "Lab Test Accuracy: 0.9823383084577114\n",
      "0.8815927602658195\n",
      "('meanStepDisplacement', 'meanStepTravel', 'shapiroDisplacement', 'meanAngle', 'sdVideoMeanStepDisplacement', 'meanVideoAngle', 'sdVideoAngle')\n"
     ]
    }
   ],
   "source": [
    "sfs = SequentialFeatureSelector(linear_model.LogisticRegression(max_iter=12000),\n",
    "                                k_features='parsimonious',\n",
    "                                forward=False,\n",
    "                                scoring=ftwo_scorer,\n",
    "                                cv=KFold(n_splits=5, shuffle=True,random_state=False))\n",
    "selected_features = sfs.fit(normalizedTrainDF, df_train['label'].values).k_feature_names_\n",
    "model = LogisticRegression(multi_class='multinomial', solver='lbfgs',max_iter=12000, class_weight='balanced')\n",
    "model.fit(normalizedTrainDF[np.asarray(selected_features)], df_train['label'].values, sample_weight = weights)\n",
    "yhat = model.predict(normalizedTestDF[np.asarray(selected_features)])\n",
    "testy= df_test['label'].values\n",
    "\n",
    "yhat = model.predict(normalizedTestDF[np.asarray(selected_features)])\n",
    "testy= df_test['label'].values\n",
    "yhat0 = model.predict(normalizedTrainDF[np.asarray(selected_features)])\n",
    "trainy = df_train['label'].values\n",
    "\n",
    "\n",
    "# Check accuracy on testing data\n",
    "yhat = model.predict(normalizedTestDF[np.asarray(selected_features)])\n",
    "testy= df_test['label'].values\n",
    "yhat0 = model.predict(normalizedTrainDF[np.asarray(selected_features)])\n",
    "trainy = df_train['label'].values\n",
    "\n",
    "yhat2 = model.predict(normalizedTestLabDF[np.asarray(selected_features)])\n",
    "testy2= labtest['label'].values\n",
    "\n",
    "print('Train Accuracy: '+ str(np.sum(yhat0==trainy)/len(trainy)))\n",
    "print( fbeta_score(trainy, yhat0, average='weighted', beta=2))\n",
    "\n",
    "print('Test Accuracy: '+ str(np.sum(yhat==testy)/len(testy)))\n",
    "print(fbeta_score(testy, yhat, average='weighted', beta=2))\n",
    "\n",
    "print('Lab Test Accuracy: '+ str(np.sum(yhat==testy)/len(testy)))\n",
    "print(fbeta_score(testy2, yhat2, average='weighted', beta=2))\n",
    "\n",
    "print(selected_features)"
   ]
  },
  {
   "cell_type": "markdown",
   "id": "cb8021b3",
   "metadata": {},
   "source": [
    "### SVM"
   ]
  },
  {
   "cell_type": "code",
   "execution_count": 149,
   "id": "3e577d3d",
   "metadata": {},
   "outputs": [
    {
     "ename": "NameError",
     "evalue": "name 'CalibratedClassifierCV' is not defined",
     "output_type": "error",
     "traceback": [
      "\u001b[0;31m---------------------------------------------------------------------------\u001b[0m",
      "\u001b[0;31mNameError\u001b[0m                                 Traceback (most recent call last)",
      "Cell \u001b[0;32mIn[149], line 5\u001b[0m\n\u001b[1;32m      3\u001b[0m clf \u001b[38;5;241m=\u001b[39m svm\u001b[38;5;241m.\u001b[39mSVC(C\u001b[38;5;241m=\u001b[39m\u001b[38;5;241m10\u001b[39m, kernel \u001b[38;5;241m=\u001b[39m \u001b[38;5;124m'\u001b[39m\u001b[38;5;124mpoly\u001b[39m\u001b[38;5;124m'\u001b[39m, degree \u001b[38;5;241m=\u001b[39m \u001b[38;5;241m3\u001b[39m, probability \u001b[38;5;241m=\u001b[39m \u001b[38;5;28;01mTrue\u001b[39;00m)\n\u001b[1;32m      4\u001b[0m model2 \u001b[38;5;241m=\u001b[39m svm\u001b[38;5;241m.\u001b[39mSVC(C\u001b[38;5;241m=\u001b[39m\u001b[38;5;241m15\u001b[39m, kernel \u001b[38;5;241m=\u001b[39m \u001b[38;5;124m'\u001b[39m\u001b[38;5;124mpoly\u001b[39m\u001b[38;5;124m'\u001b[39m, degree \u001b[38;5;241m=\u001b[39m \u001b[38;5;241m3\u001b[39m)\n\u001b[0;32m----> 5\u001b[0m clf \u001b[38;5;241m=\u001b[39m \u001b[43mCalibratedClassifierCV\u001b[49m(model2, method\u001b[38;5;241m=\u001b[39m\u001b[38;5;124m'\u001b[39m\u001b[38;5;124misotonic\u001b[39m\u001b[38;5;124m'\u001b[39m, cv\u001b[38;5;241m=\u001b[39m\u001b[38;5;241m10\u001b[39m)\n\u001b[1;32m      6\u001b[0m clf\u001b[38;5;241m.\u001b[39mfit(normalizedTrainDF,df_train[\u001b[38;5;124m'\u001b[39m\u001b[38;5;124mlabel\u001b[39m\u001b[38;5;124m'\u001b[39m]\u001b[38;5;241m.\u001b[39mvalues)\n",
      "\u001b[0;31mNameError\u001b[0m: name 'CalibratedClassifierCV' is not defined"
     ]
    }
   ],
   "source": [
    "from sklearn import svm\n",
    "clf = svm.SVC(C=10, kernel = 'sigmoid', degree = 3)\n",
    "clf = svm.SVC(C=10, kernel = 'poly', degree = 3, probability = True)\n",
    "model2 = svm.SVC(C=15, kernel = 'poly', degree = 3)\n",
    "clf = CalibratedClassifierCV(model2, method='isotonic', cv=10, class_weight='balanced')\n",
    "clf.fit(normalizedTrainDF,df_train['label'].values)"
   ]
  },
  {
   "cell_type": "code",
   "execution_count": 875,
   "id": "54949b2f",
   "metadata": {},
   "outputs": [
    {
     "name": "stdout",
     "output_type": "stream",
     "text": [
      "Train Accuracy: 0.9973569651741293\n",
      "0.9973565150656055\n",
      "Test Accuracy: 0.9934701492537313\n",
      "0.9934696422037985\n"
     ]
    }
   ],
   "source": [
    "yhat = clf.predict(normalizedTestDF)\n",
    "testy= df_test['label'].values\n",
    "\n",
    "yhat0 = clf.predict(normalizedTrainDF)\n",
    "trainy = df_train['label'].values\n",
    "\n",
    "\n",
    "print('Train Accuracy: '+ str(np.sum(yhat0==trainy)/len(trainy)))\n",
    "print( fbeta_score(trainy, yhat0, average='weighted', beta=2))\n",
    "\n",
    "print('Test Accuracy: '+ str(np.sum(yhat==testy)/len(testy)))\n",
    "print( fbeta_score(testy, yhat, average='weighted', beta=2))"
   ]
  },
  {
   "cell_type": "markdown",
   "id": "4e1219f8",
   "metadata": {},
   "source": [
    "## Decision Trees"
   ]
  },
  {
   "cell_type": "code",
   "execution_count": 151,
   "id": "32159d85",
   "metadata": {},
   "outputs": [
    {
     "data": {
      "text/html": [
       "<style>#sk-container-id-12 {color: black;background-color: white;}#sk-container-id-12 pre{padding: 0;}#sk-container-id-12 div.sk-toggleable {background-color: white;}#sk-container-id-12 label.sk-toggleable__label {cursor: pointer;display: block;width: 100%;margin-bottom: 0;padding: 0.3em;box-sizing: border-box;text-align: center;}#sk-container-id-12 label.sk-toggleable__label-arrow:before {content: \"▸\";float: left;margin-right: 0.25em;color: #696969;}#sk-container-id-12 label.sk-toggleable__label-arrow:hover:before {color: black;}#sk-container-id-12 div.sk-estimator:hover label.sk-toggleable__label-arrow:before {color: black;}#sk-container-id-12 div.sk-toggleable__content {max-height: 0;max-width: 0;overflow: hidden;text-align: left;background-color: #f0f8ff;}#sk-container-id-12 div.sk-toggleable__content pre {margin: 0.2em;color: black;border-radius: 0.25em;background-color: #f0f8ff;}#sk-container-id-12 input.sk-toggleable__control:checked~div.sk-toggleable__content {max-height: 200px;max-width: 100%;overflow: auto;}#sk-container-id-12 input.sk-toggleable__control:checked~label.sk-toggleable__label-arrow:before {content: \"▾\";}#sk-container-id-12 div.sk-estimator input.sk-toggleable__control:checked~label.sk-toggleable__label {background-color: #d4ebff;}#sk-container-id-12 div.sk-label input.sk-toggleable__control:checked~label.sk-toggleable__label {background-color: #d4ebff;}#sk-container-id-12 input.sk-hidden--visually {border: 0;clip: rect(1px 1px 1px 1px);clip: rect(1px, 1px, 1px, 1px);height: 1px;margin: -1px;overflow: hidden;padding: 0;position: absolute;width: 1px;}#sk-container-id-12 div.sk-estimator {font-family: monospace;background-color: #f0f8ff;border: 1px dotted black;border-radius: 0.25em;box-sizing: border-box;margin-bottom: 0.5em;}#sk-container-id-12 div.sk-estimator:hover {background-color: #d4ebff;}#sk-container-id-12 div.sk-parallel-item::after {content: \"\";width: 100%;border-bottom: 1px solid gray;flex-grow: 1;}#sk-container-id-12 div.sk-label:hover label.sk-toggleable__label {background-color: #d4ebff;}#sk-container-id-12 div.sk-serial::before {content: \"\";position: absolute;border-left: 1px solid gray;box-sizing: border-box;top: 0;bottom: 0;left: 50%;z-index: 0;}#sk-container-id-12 div.sk-serial {display: flex;flex-direction: column;align-items: center;background-color: white;padding-right: 0.2em;padding-left: 0.2em;position: relative;}#sk-container-id-12 div.sk-item {position: relative;z-index: 1;}#sk-container-id-12 div.sk-parallel {display: flex;align-items: stretch;justify-content: center;background-color: white;position: relative;}#sk-container-id-12 div.sk-item::before, #sk-container-id-12 div.sk-parallel-item::before {content: \"\";position: absolute;border-left: 1px solid gray;box-sizing: border-box;top: 0;bottom: 0;left: 50%;z-index: -1;}#sk-container-id-12 div.sk-parallel-item {display: flex;flex-direction: column;z-index: 1;position: relative;background-color: white;}#sk-container-id-12 div.sk-parallel-item:first-child::after {align-self: flex-end;width: 50%;}#sk-container-id-12 div.sk-parallel-item:last-child::after {align-self: flex-start;width: 50%;}#sk-container-id-12 div.sk-parallel-item:only-child::after {width: 0;}#sk-container-id-12 div.sk-dashed-wrapped {border: 1px dashed gray;margin: 0 0.4em 0.5em 0.4em;box-sizing: border-box;padding-bottom: 0.4em;background-color: white;}#sk-container-id-12 div.sk-label label {font-family: monospace;font-weight: bold;display: inline-block;line-height: 1.2em;}#sk-container-id-12 div.sk-label-container {text-align: center;}#sk-container-id-12 div.sk-container {/* jupyter's `normalize.less` sets `[hidden] { display: none; }` but bootstrap.min.css set `[hidden] { display: none !important; }` so we also need the `!important` here to be able to override the default hidden behavior on the sphinx rendered scikit-learn.org. See: https://github.com/scikit-learn/scikit-learn/issues/21755 */display: inline-block !important;position: relative;}#sk-container-id-12 div.sk-text-repr-fallback {display: none;}</style><div id=\"sk-container-id-12\" class=\"sk-top-container\"><div class=\"sk-text-repr-fallback\"><pre>RandomForestClassifier(class_weight=&#x27;balanced&#x27;, max_depth=100,\n",
       "                       n_estimators=1000)</pre><b>In a Jupyter environment, please rerun this cell to show the HTML representation or trust the notebook. <br />On GitHub, the HTML representation is unable to render, please try loading this page with nbviewer.org.</b></div><div class=\"sk-container\" hidden><div class=\"sk-item\"><div class=\"sk-estimator sk-toggleable\"><input class=\"sk-toggleable__control sk-hidden--visually\" id=\"sk-estimator-id-12\" type=\"checkbox\" checked><label for=\"sk-estimator-id-12\" class=\"sk-toggleable__label sk-toggleable__label-arrow\">RandomForestClassifier</label><div class=\"sk-toggleable__content\"><pre>RandomForestClassifier(class_weight=&#x27;balanced&#x27;, max_depth=100,\n",
       "                       n_estimators=1000)</pre></div></div></div></div></div>"
      ],
      "text/plain": [
       "RandomForestClassifier(class_weight='balanced', max_depth=100,\n",
       "                       n_estimators=1000)"
      ]
     },
     "execution_count": 151,
     "metadata": {},
     "output_type": "execute_result"
    }
   ],
   "source": [
    "from sklearn.ensemble import RandomForestClassifier\n",
    "np.random.seed(1)\n",
    "\n",
    "n_estimators = 1000\n",
    "clf = RandomForestClassifier(n_estimators = n_estimators, criterion = 'gini', class_weight='balanced')\n",
    "clf.set_params(max_depth = 100).fit(normalizedTrainDF,df_train['label'].values, sample_weight = weights)"
   ]
  },
  {
   "cell_type": "code",
   "execution_count": 152,
   "id": "1c1982bf",
   "metadata": {},
   "outputs": [
    {
     "name": "stdout",
     "output_type": "stream",
     "text": [
      "Train Accuracy: 0.999822316986496\n",
      "0.999822309551156\n",
      "Test Accuracy: 0.9954394693200663\n",
      "0.9954393388563515\n"
     ]
    }
   ],
   "source": [
    "yhat = clf.predict(normalizedTestDF)\n",
    "testy= df_test['label'].values\n",
    "\n",
    "yhat0 = clf.predict(normalizedTrainDF)\n",
    "trainy = df_train['label'].values\n",
    "\n",
    "\n",
    "print('Train Accuracy: '+ str(np.sum(yhat0==trainy)/len(trainy)))\n",
    "print( fbeta_score(trainy, yhat0, average='weighted', beta=2))\n",
    "\n",
    "print('Test Accuracy: '+ str(np.sum(yhat==testy)/len(testy)))\n",
    "print( fbeta_score(testy, yhat, average='weighted', beta=2))"
   ]
  },
  {
   "cell_type": "code",
   "execution_count": 166,
   "id": "c6eb88e2",
   "metadata": {},
   "outputs": [],
   "source": [
    "def f2(yhat, testy):\n",
    "    tp = 0\n",
    "    fp = 0\n",
    "    fn = 0\n",
    "    \n",
    "    for i in range(0,len(yhat)):\n",
    "        if yhat[i]==1 and testy[i] ==1:\n",
    "            tp += 1\n",
    "        if yhat[i]==1 and testy[i] !=1:\n",
    "            fp += 1\n",
    "        if yhat[i]==0 and testy[i] !=0:\n",
    "            fn += 1\n",
    "    \n",
    "    p=tp/(tp+fp)\n",
    "    r=(tp)/(tp+fn)\n",
    "    \n",
    "    return 5*p*r/(4*p+r)"
   ]
  },
  {
   "cell_type": "code",
   "execution_count": 167,
   "id": "113f59e6",
   "metadata": {},
   "outputs": [
    {
     "data": {
      "text/plain": [
       "0.9958418194161572"
      ]
     },
     "execution_count": 167,
     "metadata": {},
     "output_type": "execute_result"
    }
   ],
   "source": [
    "f2(yhat, testy)"
   ]
  },
  {
   "cell_type": "code",
   "execution_count": null,
   "id": "edbd05bf",
   "metadata": {},
   "outputs": [],
   "source": []
  },
  {
   "cell_type": "markdown",
   "id": "38619834",
   "metadata": {},
   "source": [
    "## Converting to data for Kaggle Upload."
   ]
  },
  {
   "cell_type": "code",
   "execution_count": 256,
   "id": "31126d07",
   "metadata": {},
   "outputs": [],
   "source": [
    "TESTdf = pd.read_csv(\"testingData2.csv\")\n",
    "NPTEST = TESTdf.drop(['lab','UID'], axis=1).values\n",
    "NPTEST = scaler.transform(NPTEST)\n",
    "normalizedTESTDF= pd.DataFrame(NPTEST, columns = TESTdf.drop(['lab','UID'], axis=1).columns.values)"
   ]
  },
  {
   "cell_type": "code",
   "execution_count": 132,
   "id": "3d706748",
   "metadata": {},
   "outputs": [
    {
     "name": "stderr",
     "output_type": "stream",
     "text": [
      "/Library/Frameworks/Python.framework/Versions/3.9/lib/python3.9/site-packages/sklearn/base.py:409: UserWarning: X does not have valid feature names, but LogisticRegression was fitted with feature names\n",
      "  warnings.warn(\n"
     ]
    }
   ],
   "source": [
    "# RUN FOR NON STEPWISE REGRESSION\n",
    "UIDs = TESTdf['UID'].values\n",
    "preds = model.predict(NPTEST).astype(int)"
   ]
  },
  {
   "cell_type": "code",
   "execution_count": 273,
   "id": "485559f5",
   "metadata": {},
   "outputs": [],
   "source": [
    "# RUN FOR STEPWISE REGRESSION\n",
    "UIDs = TESTdf['UID'].values\n",
    "preds = model.predict(normalizedTESTDF[np.asarray(selected_features)]).astype(int)"
   ]
  },
  {
   "cell_type": "code",
   "execution_count": 272,
   "id": "9e49396e",
   "metadata": {},
   "outputs": [],
   "source": [
    "# RUN FOR SVMs AND DECISION TREES\n",
    "UIDs = TESTdf['UID'].values\n",
    "preds = clf.predict(normalizedTESTDF).astype(int)"
   ]
  },
  {
   "cell_type": "code",
   "execution_count": 274,
   "id": "dd93ebf8",
   "metadata": {},
   "outputs": [],
   "source": [
    "submission = pd.DataFrame({'UID': UIDs, 'label': preds})\n",
    "submission.to_csv(\"submission.csv\",index=False)"
   ]
  },
  {
   "cell_type": "code",
   "execution_count": 275,
   "id": "bbb43b12",
   "metadata": {},
   "outputs": [
    {
     "data": {
      "text/html": [
       "<div>\n",
       "<style scoped>\n",
       "    .dataframe tbody tr th:only-of-type {\n",
       "        vertical-align: middle;\n",
       "    }\n",
       "\n",
       "    .dataframe tbody tr th {\n",
       "        vertical-align: top;\n",
       "    }\n",
       "\n",
       "    .dataframe thead th {\n",
       "        text-align: right;\n",
       "    }\n",
       "</style>\n",
       "<table border=\"1\" class=\"dataframe\">\n",
       "  <thead>\n",
       "    <tr style=\"text-align: right;\">\n",
       "      <th></th>\n",
       "      <th>UID</th>\n",
       "      <th>label</th>\n",
       "    </tr>\n",
       "  </thead>\n",
       "  <tbody>\n",
       "    <tr>\n",
       "      <th>0</th>\n",
       "      <td>lab_19_0</td>\n",
       "      <td>0</td>\n",
       "    </tr>\n",
       "    <tr>\n",
       "      <th>1</th>\n",
       "      <td>lab_19_1</td>\n",
       "      <td>0</td>\n",
       "    </tr>\n",
       "    <tr>\n",
       "      <th>2</th>\n",
       "      <td>lab_19_10</td>\n",
       "      <td>0</td>\n",
       "    </tr>\n",
       "    <tr>\n",
       "      <th>3</th>\n",
       "      <td>lab_19_11</td>\n",
       "      <td>0</td>\n",
       "    </tr>\n",
       "    <tr>\n",
       "      <th>4</th>\n",
       "      <td>lab_19_12</td>\n",
       "      <td>1</td>\n",
       "    </tr>\n",
       "    <tr>\n",
       "      <th>...</th>\n",
       "      <td>...</td>\n",
       "      <td>...</td>\n",
       "    </tr>\n",
       "    <tr>\n",
       "      <th>472</th>\n",
       "      <td>lab_42_5</td>\n",
       "      <td>0</td>\n",
       "    </tr>\n",
       "    <tr>\n",
       "      <th>473</th>\n",
       "      <td>lab_42_6</td>\n",
       "      <td>0</td>\n",
       "    </tr>\n",
       "    <tr>\n",
       "      <th>474</th>\n",
       "      <td>lab_42_7</td>\n",
       "      <td>1</td>\n",
       "    </tr>\n",
       "    <tr>\n",
       "      <th>475</th>\n",
       "      <td>lab_42_8</td>\n",
       "      <td>1</td>\n",
       "    </tr>\n",
       "    <tr>\n",
       "      <th>476</th>\n",
       "      <td>lab_42_9</td>\n",
       "      <td>1</td>\n",
       "    </tr>\n",
       "  </tbody>\n",
       "</table>\n",
       "<p>477 rows × 2 columns</p>\n",
       "</div>"
      ],
      "text/plain": [
       "           UID  label\n",
       "0     lab_19_0      0\n",
       "1     lab_19_1      0\n",
       "2    lab_19_10      0\n",
       "3    lab_19_11      0\n",
       "4    lab_19_12      1\n",
       "..         ...    ...\n",
       "472   lab_42_5      0\n",
       "473   lab_42_6      0\n",
       "474   lab_42_7      1\n",
       "475   lab_42_8      1\n",
       "476   lab_42_9      1\n",
       "\n",
       "[477 rows x 2 columns]"
      ]
     },
     "execution_count": 275,
     "metadata": {},
     "output_type": "execute_result"
    }
   ],
   "source": [
    "submission"
   ]
  },
  {
   "cell_type": "markdown",
   "id": "b7dc64c4",
   "metadata": {},
   "source": [
    "## Historical Comparison"
   ]
  },
  {
   "cell_type": "markdown",
   "id": "22382040",
   "metadata": {},
   "source": [
    "Also good to check we haven't replicated a worse result"
   ]
  },
  {
   "cell_type": "code",
   "execution_count": 135,
   "id": "b0b6bc69",
   "metadata": {},
   "outputs": [],
   "source": [
    "baddf = pd.read_csv(\"submissionbad.csv\")\n",
    "gooddf = pd.read_csv(\"submissionbest.csv\")\n",
    "predsbad = baddf['label'].values\n",
    "predsgood = gooddf['label'].values"
   ]
  },
  {
   "cell_type": "code",
   "execution_count": 276,
   "id": "95cbe992",
   "metadata": {},
   "outputs": [
    {
     "name": "stdout",
     "output_type": "stream",
     "text": [
      "overlap with worst prediction\n",
      "0.7484276729559748\n"
     ]
    }
   ],
   "source": [
    "print(\"overlap with worst prediction\")\n",
    "print(np.sum(preds==predsbad)/len(preds))"
   ]
  },
  {
   "cell_type": "code",
   "execution_count": 277,
   "id": "43896b6a",
   "metadata": {},
   "outputs": [
    {
     "name": "stdout",
     "output_type": "stream",
     "text": [
      "overlap with best prediction\n",
      "0.7672955974842768\n"
     ]
    }
   ],
   "source": [
    "print(\"overlap with best prediction\")\n",
    "print(np.sum(preds==predsgood)/len(preds))"
   ]
  },
  {
   "cell_type": "code",
   "execution_count": null,
   "id": "78d8b40d",
   "metadata": {},
   "outputs": [],
   "source": [
    "vals = [0.7425, 0.55397, 0.63186, 0.74453, 0.75172]\n",
    "for i in vals:\n",
    "    "
   ]
  }
 ],
 "metadata": {
  "kernelspec": {
   "display_name": "Python 3 (ipykernel)",
   "language": "python",
   "name": "python3"
  },
  "language_info": {
   "codemirror_mode": {
    "name": "ipython",
    "version": 3
   },
   "file_extension": ".py",
   "mimetype": "text/x-python",
   "name": "python",
   "nbconvert_exporter": "python",
   "pygments_lexer": "ipython3",
   "version": "3.9.13"
  }
 },
 "nbformat": 4,
 "nbformat_minor": 5
}
